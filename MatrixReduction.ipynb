{
 "cells": [
  {
   "cell_type": "markdown",
   "metadata": {},
   "source": [
    "# Redukowanie macierzy\n",
    "## Konrad Linkowski"
   ]
  },
  {
   "cell_type": "markdown",
   "metadata": {},
   "source": [
    "### Klasa Number"
   ]
  },
  {
   "cell_type": "code",
   "execution_count": 1,
   "metadata": {},
   "outputs": [],
   "source": [
    "class Number:\n",
    "    numerator = 0\n",
    "    denominator = 1\n",
    "    \n",
    "    def __init__(self, num, denominator = 1):\n",
    "        if isinstance(num, Number):\n",
    "            self.numerator = num.numerator\n",
    "            self.denominator = num.denominator\n",
    "        else:\n",
    "            self.numerator = num\n",
    "            self.denominator = denominator\n",
    "    \n",
    "    def __add__(self, num):\n",
    "        lcm = Number.lcm(self.denominator, num.denominator)\n",
    "        return Number(self.numerator * lcm / self.denominator + num.numerator * lcm / num.denominator,\n",
    "            Number.lcm(self.denominator, num.denominator)).normalize()\n",
    "    \n",
    "    def __mul__(self, num):\n",
    "        return Number(self.numerator * num.numerator, self.denominator * num.denominator).normalize()\n",
    "    \n",
    "    def __eq__(self, num):\n",
    "        a = self.normalize()\n",
    "        b = num.normalize()\n",
    "        return a.numerator == b.numerator and a.denominator == b.denominator\n",
    "    \n",
    "    def __str__(self):\n",
    "        if self.denominator == 1: return str(int(self.numerator))\n",
    "        return \"{} / {}\".format(int(self.numerator), int(self.denominator))\n",
    "    \n",
    "    def normalize(self):\n",
    "        gcd = Number.gcd(self.numerator, self.denominator)\n",
    "        num = self.numerator / gcd\n",
    "        den = self.denominator / gcd\n",
    "        if den < 0:\n",
    "            num *= -1\n",
    "            den *= -1\n",
    "        return Number(num, den)\n",
    "    \n",
    "    def inverse(self):\n",
    "        return Number(self.denominator, self.numerator)\n",
    "    \n",
    "    def opposite(self):\n",
    "        return Number(-self.numerator, self.denominator)\n",
    "    \n",
    "    def clone(self):\n",
    "        return Number(self.numerator, self.denominator)\n",
    "    \n",
    "    @staticmethod\n",
    "    def gcd(a, b):\n",
    "        aa = a\n",
    "        bb = b\n",
    "        while bb != 0:\n",
    "            c = aa % bb\n",
    "            aa = bb\n",
    "            bb = c\n",
    "        return aa\n",
    "    \n",
    "    @staticmethod\n",
    "    def lcm(a, b):\n",
    "        return a / Number.gcd(a, b) * b"
   ]
  },
  {
   "cell_type": "markdown",
   "metadata": {},
   "source": [
    "### Klasa Matrix"
   ]
  },
  {
   "cell_type": "code",
   "execution_count": 2,
   "metadata": {},
   "outputs": [],
   "source": [
    "class Matrix:\n",
    "    rows = 0\n",
    "    columns = 0\n",
    "    values = []\n",
    "    \n",
    "    def __init__(self, rows = 0, columns = 0, *values):\n",
    "        self.rows = rows\n",
    "        self.columns = columns\n",
    "        if len(values) != 0:\n",
    "            self.values = [[Number(values[y * columns + x]) for x in range(columns)] for y in range(rows)] \n",
    "        else:\n",
    "            self.values = [[Number(0) for x in range(columns)] for y in range(rows)] \n",
    "    \n",
    "    def reduce(self):\n",
    "        mat = self.clone()\n",
    "        for i in range(mat.columns):\n",
    "            for j in range(i, mat.rows):\n",
    "                if not(mat.get(j, i) == Number(0)):\n",
    "                    mat = mat.swapRows(j, i).multiplyRow(i, mat.get(j, i).inverse())\n",
    "                    break\n",
    "            for k in range(i + 1, mat.rows):\n",
    "                if not(mat.get(k, i) == Number(0)):\n",
    "                    mat = mat.multiplyRow(k, mat.get(k, i).inverse().opposite()).addRows(k, i)\n",
    "        return mat\n",
    "    \n",
    "    def multiplyRow(self, row, factor):\n",
    "        mat = self.clone()\n",
    "        for i in range(mat.columns):\n",
    "            mat.set(row, i, mat.get(row, i) * factor)\n",
    "        return mat\n",
    "    \n",
    "    def addRows(self, a, b):\n",
    "        mat = self.clone()\n",
    "        for i in range(mat.columns):\n",
    "            mat.set(a, i, mat.get(a, i) + mat.get(b, i))\n",
    "        return mat\n",
    "    \n",
    "    def swapRows(self, a, b):\n",
    "        mat = self.clone()\n",
    "        if a == b:\n",
    "            return mat\n",
    "        for i in range(mat.columns):\n",
    "            temp = mat.get(a, i)\n",
    "            mat.set(a, i, mat.get(b, i))\n",
    "            mat.set(b, i, temp)\n",
    "        return mat\n",
    "    \n",
    "    def get(self, row, column):\n",
    "        return self.values[row][column]\n",
    "    \n",
    "    def set(self, row, column, value):\n",
    "        self.values[row][column] = value\n",
    "        return self\n",
    "    \n",
    "    def clone(self):\n",
    "        mat = Matrix(self.rows, self.columns)\n",
    "        mat.values = [[self.get(y, x).clone() for x in range(mat.columns)] for y in range(mat.rows)]\n",
    "        return mat\n",
    "    \n",
    "    def __str__(self):\n",
    "        result = \"\"\n",
    "        for i in range(self.rows):\n",
    "            for j in range(self.columns):\n",
    "                result +=str(self.values[i][j]) + \"\\t\"\n",
    "            result += \"\\n\"\n",
    "        return result"
   ]
  },
  {
   "cell_type": "markdown",
   "metadata": {},
   "source": [
    "### Zastosowanie"
   ]
  },
  {
   "cell_type": "code",
   "execution_count": 3,
   "metadata": {},
   "outputs": [
    {
     "name": "stdout",
     "output_type": "stream",
     "text": [
      "1\t3\t0\t-1\t\n",
      "0\t2\t1\t3\t\n",
      "3\t1\t2\t1\t\n",
      "-1\t2\t0\t3\t\n",
      "\n",
      "1\t3\t0\t-1\t\n",
      "0\t1\t1 / 2\t3 / 2\t\n",
      "0\t0\t1\t8 / 3\t\n",
      "0\t0\t0\t1\t\n",
      "\n"
     ]
    }
   ],
   "source": [
    "mat = Matrix(4, 4,\n",
    "             1, 3, 0, -1,\n",
    "             0, 2, 1, 3,\n",
    "             3, 1, 2, 1,\n",
    "             -1, 2, 0, 3\n",
    "            )\n",
    "print(mat)\n",
    "print(mat.reduce())"
   ]
  }
 ],
 "metadata": {
  "kernelspec": {
   "display_name": "Python 3",
   "language": "python",
   "name": "python3"
  },
  "language_info": {
   "codemirror_mode": {
    "name": "ipython",
    "version": 3
   },
   "file_extension": ".py",
   "mimetype": "text/x-python",
   "name": "python",
   "nbconvert_exporter": "python",
   "pygments_lexer": "ipython3",
   "version": "3.6.2"
  }
 },
 "nbformat": 4,
 "nbformat_minor": 2
}
